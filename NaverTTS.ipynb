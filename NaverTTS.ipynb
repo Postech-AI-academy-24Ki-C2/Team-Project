{
 "cells": [
  {
   "cell_type": "code",
   "execution_count": null,
   "id": "18effe9d-6087-43b9-ad05-27659a49bf81",
   "metadata": {},
   "outputs": [],
   "source": [
    "# pip install pygame\n",
    "import requests\n",
    "import os\n",
    "from pygame import mixer\n",
    "\n",
    "client_id = \"fydhjq2q19\"\n",
    "client_secret = \"b0FmuS934yRKpUjOh1wSJQVEUXIEz2LuzbYOHf4j\"\n",
    "\n",
    "text = \"짠! 이렇게 하면 CLOVA Voice Application 등록이 완료됩니다. 정말 간단하죠?\"\n",
    "\n",
    "speaker = \"nsujin\"      # nsujin : 수진 : 한국어, 여성 음색 \n",
    "                        # njihun : 지훈 : 한국어, 남성 음색 \n",
    "                        # nhajun : 하준 : 한국어, 아동 음색 (남) \n",
    "                        # ndain : 다인 : 한국어, 아동음색 (여) \n",
    "\n",
    "volume = \"5\"\n",
    "emotion = \"0\"\n",
    "speed = \"0\"\n",
    "pitch = \"0\"\n",
    "format = \"mp3\"\n",
    "\n",
    "val = {\n",
    "    \"speaker\": speaker,\n",
    "    \"volume\": volume,\n",
    "    \"emotion\": emotion,\n",
    "    \"text\": text,\n",
    "    \"speed\": speed,\n",
    "    \"pitch\": pitch,\n",
    "    \"format\": format\n",
    "}\n",
    "\n",
    "url = \"https://naveropenapi.apigw.ntruss.com/tts-premium/v1/tts\"\n",
    "\n",
    "headers = {\n",
    "    \"X-NCP-APIGW-API-KEY-ID\": client_id,\n",
    "    \"X-NCP-APIGW-API-KEY\": client_secret\n",
    "}\n",
    "\n",
    "response = requests.post(url, data=val, headers=headers)\n",
    "rescode = response.status_code\n",
    "\n",
    "if(rescode == 200):\n",
    "    print(rescode)\n",
    "    with open('clova_test.mp13', 'wb') as f:\n",
    "        f.write(response.content)\n",
    "else:\n",
    "    print(\"Error : \" + response.text)\n",
    "    \n",
    "result1 = os.path.isfile(\"C:/Users/SAMSUNG/Desktop/포스코 빅데이터,ai 아카데미/Clova/clova_test.mp13\")\n",
    "print(result1)\n",
    "\n",
    "mixer.init()\n",
    "mixer.music.load(\"C:/Users/SAMSUNG/Desktop/포스코 빅데이터,ai 아카데미/Clova/clova_test.mp13\")\n",
    "mixer.music.play()"
   ]
  }
 ],
 "metadata": {
  "kernelspec": {
   "display_name": "Python 3 (ipykernel)",
   "language": "python",
   "name": "python3"
  },
  "language_info": {
   "codemirror_mode": {
    "name": "ipython",
    "version": 3
   },
   "file_extension": ".py",
   "mimetype": "text/x-python",
   "name": "python",
   "nbconvert_exporter": "python",
   "pygments_lexer": "ipython3",
   "version": "3.8.18"
  }
 },
 "nbformat": 4,
 "nbformat_minor": 5
}
